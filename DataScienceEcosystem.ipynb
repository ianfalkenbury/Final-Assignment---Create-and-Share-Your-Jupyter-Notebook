{
 "cells": [
  {
   "cell_type": "markdown",
   "id": "1cf6b46e-7bb7-4f9a-a7ed-9c38a4877a77",
   "metadata": {},
   "source": [
    "# Data Science Tools and Ecosystem"
   ]
  },
  {
   "cell_type": "markdown",
   "id": "b9c7f7ec-c8d5-4093-96c1-a8aa4b2e980c",
   "metadata": {},
   "source": [
    "## Author\n",
    "Ian Falkenbury"
   ]
  },
  {
   "cell_type": "markdown",
   "id": "51bc27d0-ab77-42bf-95da-c9b133a34e48",
   "metadata": {},
   "source": [
    "In this notebook, Data Science Tools and Ecosystem are summarized."
   ]
  },
  {
   "cell_type": "markdown",
   "id": "03be58a8-5ebb-4453-958d-5c0a9d484b19",
   "metadata": {},
   "source": [
    "**Objectives:**\n",
    "+ List popular languages for Data Science.\n",
    "+ List commonly used libraries for Data Science.\n",
    "+ List common tools for Data Science. \n",
    "+ Examples of evaluating arithemtic expressions. "
   ]
  },
  {
   "cell_type": "markdown",
   "id": "38ab65c1-bc7c-440f-bf0e-230fa19465f2",
   "metadata": {},
   "source": [
    "Some of the popular languages that Data Scientists use are:\n",
    "1. Python\n",
    "2. R\n",
    "3. SQL\n",
    "4. Scala\n",
    "5. Julia"
   ]
  },
  {
   "cell_type": "markdown",
   "id": "666e7ca0-fa23-4e7f-a837-3972552295b0",
   "metadata": {},
   "source": [
    "Some of the commonly used libraries used by Data Scientists include: \n",
    "1. Matplotlib\n",
    "2. Plotly\n",
    "3. Pandas\n",
    "4. ggplot2\n",
    "5. NumPy"
   ]
  },
  {
   "cell_type": "markdown",
   "id": "f9a24962-23f5-41d9-8199-edbfee81bf52",
   "metadata": {},
   "source": [
    "|Data Science Tools|\n",
    "|------------------|\n",
    "| JuypterLab |\n",
    "| VisualStudio Code |\n",
    "| RStudio |"
   ]
  },
  {
   "cell_type": "markdown",
   "id": "bf8e15a2-731d-407d-9786-0534ca8fc9d3",
   "metadata": {},
   "source": [
    "### Below are a few examples of evaluating arithmetic expressions in Python."
   ]
  },
  {
   "cell_type": "code",
   "execution_count": 1,
   "id": "2389b4f6-0736-4103-af65-7bdf82b33035",
   "metadata": {},
   "outputs": [
    {
     "data": {
      "text/plain": [
       "17"
      ]
     },
     "execution_count": 1,
     "metadata": {},
     "output_type": "execute_result"
    }
   ],
   "source": [
    "# This is a simple arithmetic expression to multiply then add integers. \n",
    "(3*4)+5"
   ]
  },
  {
   "cell_type": "code",
   "execution_count": 2,
   "id": "44723495-c786-4c29-834a-09f48f3dfdc2",
   "metadata": {},
   "outputs": [
    {
     "data": {
      "text/plain": [
       "3.3333333333333335"
      ]
     },
     "execution_count": 2,
     "metadata": {},
     "output_type": "execute_result"
    }
   ],
   "source": [
    "# This will convert 200 minutes to hours by dividing by 60. \n",
    "200 / 60 "
   ]
  }
 ],
 "metadata": {
  "kernelspec": {
   "display_name": "Python 3 (ipykernel)",
   "language": "python",
   "name": "python3"
  },
  "language_info": {
   "codemirror_mode": {
    "name": "ipython",
    "version": 3
   },
   "file_extension": ".py",
   "mimetype": "text/x-python",
   "name": "python",
   "nbconvert_exporter": "python",
   "pygments_lexer": "ipython3",
   "version": "3.11.9"
  }
 },
 "nbformat": 4,
 "nbformat_minor": 5
}
